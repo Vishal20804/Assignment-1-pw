{
 "cells": [
  {
   "cell_type": "code",
   "execution_count": null,
   "id": "58d017b1-cb44-496b-912b-e0e6050836e8",
   "metadata": {},
   "outputs": [],
   "source": [
    "ans:1= Guido van Rossum"
   ]
  },
  {
   "cell_type": "code",
   "execution_count": null,
   "id": "e191887b-c738-4375-85ac-d22445aa2bf0",
   "metadata": {},
   "outputs": [],
   "source": [
    "ans:2=Python is a multi-paradigm programming language. Object-oriented programming and structured programming are fully supported, and many of their features support functional programming and aspect-oriented programming"
   ]
  },
  {
   "cell_type": "code",
   "execution_count": null,
   "id": "c316a8e4-b0d8-4077-b17e-31f710e07764",
   "metadata": {},
   "outputs": [],
   "source": [
    "ans:3=Yes, Python is a case-sensitive language,"
   ]
  },
  {
   "cell_type": "code",
   "execution_count": null,
   "id": "40ecd73d-34db-4dbd-b493-bdb7b58e2692",
   "metadata": {},
   "outputs": [],
   "source": [
    "ans:4= .py"
   ]
  },
  {
   "cell_type": "code",
   "execution_count": null,
   "id": "cff45949-17fb-4340-a063-932307232c76",
   "metadata": {},
   "outputs": [],
   "source": [
    "ans:5=Python is an interpreted languageans"
   ]
  },
  {
   "cell_type": "code",
   "execution_count": null,
   "id": "6bfad799-40ed-4792-aaea-1befb71f4641",
   "metadata": {},
   "outputs": [],
   "source": [
    "ans:6=a module, a function body, and a class definition."
   ]
  },
  {
   "cell_type": "code",
   "execution_count": null,
   "id": "5d7b9f29-3521-4008-8e69-ff7f1876e829",
   "metadata": {},
   "outputs": [],
   "source": [
    "ans:7= \"#\" is a single line comment"
   ]
  },
  {
   "cell_type": "code",
   "execution_count": null,
   "id": "7195a623-ebfd-4ea6-b81d-8306b7674b64",
   "metadata": {},
   "outputs": [],
   "source": [
    "ans:8=Using sys.version method\n",
    "Using python_version() function\n",
    "Using Python -V command"
   ]
  },
  {
   "cell_type": "code",
   "execution_count": null,
   "id": "963acce0-f8b8-44eb-93cd-0aeaa87da214",
   "metadata": {},
   "outputs": [],
   "source": [
    "ans:9=Python supports to make anonymous functions which are not bound to a name(@ runtime). It uses a construct called \"lambda\" ."
   ]
  },
  {
   "cell_type": "code",
   "execution_count": null,
   "id": "fdee3c32-c67a-4f1c-b060-8e243fc4a26b",
   "metadata": {},
   "outputs": [],
   "source": [
    "ans:10=pip Install Package"
   ]
  },
  {
   "cell_type": "code",
   "execution_count": null,
   "id": "8a9499d4-d039-4c53-9599-00cafa6461a6",
   "metadata": {},
   "outputs": [],
   "source": [
    "ans:11=abs(),all(),any(),ascii(),bin(),dict(),filter(),flot() etc"
   ]
  },
  {
   "cell_type": "code",
   "execution_count": null,
   "id": "d2c05862-b966-49b0-bf4f-09da5798259e",
   "metadata": {},
   "outputs": [],
   "source": [
    "ans:12=4 space"
   ]
  },
  {
   "cell_type": "code",
   "execution_count": null,
   "id": "6dbfd1d7-826e-4e79-afa3-f11b1ba66206",
   "metadata": {},
   "outputs": [],
   "source": [
    "ans:13=Finance and trading.\n",
    "Scientific and mathematical computing.\n",
    "Web development.\n",
    "System automation and administration.\n",
    "Computer graphics.\n",
    "Basic game development.\n",
    "Security and penetration testing.\n",
    "General and application-specific scripting."
   ]
  },
  {
   "cell_type": "code",
   "execution_count": null,
   "id": "7f901766-3322-4753-bf5c-bf4f2bf25f43",
   "metadata": {},
   "outputs": [],
   "source": [
    "ans:14=Memory management in Python involves a private heap containing all Python objects and data structures. The management of this private heap is ensured internally by the Python memory manager."
   ]
  },
  {
   "cell_type": "code",
   "execution_count": null,
   "id": "140b7e96-367f-461c-9cb1-3e11f59b18bb",
   "metadata": {},
   "outputs": [],
   "source": [
    "ans:15=Open a browser to the Python website and download the Windows installer. 2. Double click on the downloaded file and install Python for all users, and ensure that Python is added to your path. Click on Install now to begin.28-"
   ]
  },
  {
   "cell_type": "code",
   "execution_count": null,
   "id": "d1dd07bf-c52a-4e11-bb60-d450e53bcdb8",
   "metadata": {},
   "outputs": [],
   "source": [
    "ans:16=yes it is requird."
   ]
  },
  {
   "cell_type": "code",
   "execution_count": null,
   "id": "408073b1-5a43-4dfd-a4a4-e383df58837c",
   "metadata": {},
   "outputs": [],
   "source": []
  }
 ],
 "metadata": {
  "kernelspec": {
   "display_name": "Python 3 (ipykernel)",
   "language": "python",
   "name": "python3"
  },
  "language_info": {
   "codemirror_mode": {
    "name": "ipython",
    "version": 3
   },
   "file_extension": ".py",
   "mimetype": "text/x-python",
   "name": "python",
   "nbconvert_exporter": "python",
   "pygments_lexer": "ipython3",
   "version": "3.10.8"
  }
 },
 "nbformat": 4,
 "nbformat_minor": 5
}
